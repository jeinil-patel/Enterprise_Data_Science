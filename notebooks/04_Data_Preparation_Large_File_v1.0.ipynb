{
 "cells": [
  {
   "cell_type": "code",
   "execution_count": 1,
   "metadata": {},
   "outputs": [],
   "source": [
    "import pandas as pd\n",
    "import numpy as np\n",
    "\n",
    "from datetime import datetime\n",
    "\n",
    "import matplotlib.pyplot as plt\n",
    "%matplotlib inline\n",
    "\n",
    "from sklearn import linear_model\n",
    "\n",
    "from scipy import signal"
   ]
  },
  {
   "cell_type": "markdown",
   "metadata": {},
   "source": [
    "# Standard process in data science\n",
    "!['CRISP_DM'](../reports/figures/CRISP_DM.png)\n",
    "\n",
    "# Apply groupby on large data set"
   ]
  },
  {
   "cell_type": "code",
   "execution_count": 2,
   "metadata": {},
   "outputs": [
    {
     "data": {
      "text/html": [
       "<div>\n",
       "<style scoped>\n",
       "    .dataframe tbody tr th:only-of-type {\n",
       "        vertical-align: middle;\n",
       "    }\n",
       "\n",
       "    .dataframe tbody tr th {\n",
       "        vertical-align: top;\n",
       "    }\n",
       "\n",
       "    .dataframe thead th {\n",
       "        text-align: right;\n",
       "    }\n",
       "</style>\n",
       "<table border=\"1\" class=\"dataframe\">\n",
       "  <thead>\n",
       "    <tr style=\"text-align: right;\">\n",
       "      <th></th>\n",
       "      <th>date</th>\n",
       "      <th>state</th>\n",
       "      <th>country</th>\n",
       "      <th>confirmed</th>\n",
       "    </tr>\n",
       "  </thead>\n",
       "  <tbody>\n",
       "    <tr>\n",
       "      <th>56653</th>\n",
       "      <td>2020-08-21</td>\n",
       "      <td>no</td>\n",
       "      <td>Barbados</td>\n",
       "      <td>157</td>\n",
       "    </tr>\n",
       "    <tr>\n",
       "      <th>56654</th>\n",
       "      <td>2020-08-21</td>\n",
       "      <td>no</td>\n",
       "      <td>Belarus</td>\n",
       "      <td>70111</td>\n",
       "    </tr>\n",
       "    <tr>\n",
       "      <th>56655</th>\n",
       "      <td>2020-08-21</td>\n",
       "      <td>no</td>\n",
       "      <td>Belgium</td>\n",
       "      <td>80894</td>\n",
       "    </tr>\n",
       "    <tr>\n",
       "      <th>56656</th>\n",
       "      <td>2020-08-21</td>\n",
       "      <td>no</td>\n",
       "      <td>Albania</td>\n",
       "      <td>8119</td>\n",
       "    </tr>\n",
       "    <tr>\n",
       "      <th>56657</th>\n",
       "      <td>2020-08-21</td>\n",
       "      <td>no</td>\n",
       "      <td>Zimbabwe</td>\n",
       "      <td>5815</td>\n",
       "    </tr>\n",
       "  </tbody>\n",
       "</table>\n",
       "</div>"
      ],
      "text/plain": [
       "            date state   country  confirmed\n",
       "56653 2020-08-21    no  Barbados        157\n",
       "56654 2020-08-21    no   Belarus      70111\n",
       "56655 2020-08-21    no   Belgium      80894\n",
       "56656 2020-08-21    no   Albania       8119\n",
       "56657 2020-08-21    no  Zimbabwe       5815"
      ]
     },
     "execution_count": 2,
     "metadata": {},
     "output_type": "execute_result"
    }
   ],
   "source": [
    "pd_data=pd.read_csv('../data/processed/COVID_relational_confirmed.csv', sep=';',parse_dates=[0])\n",
    "pd_data=pd_data.sort_values('date',ascending=True).reset_index(drop=True).copy()\n",
    "pd_data.tail()"
   ]
  },
  {
   "cell_type": "markdown",
   "metadata": {},
   "source": [
    "## Doubling Rate (DR) calculation \n",
    "\n",
    "First we will take test dataset for limited countries and apply different method for doubling rate calculation"
   ]
  },
  {
   "cell_type": "code",
   "execution_count": 3,
   "metadata": {},
   "outputs": [],
   "source": [
    "test_data=pd_data[((pd_data['country']=='US') | \n",
    "                   (pd_data['country']=='Germany')) & \n",
    "                  (pd_data['date']>'2020-03-20')]"
   ]
  },
  {
   "cell_type": "code",
   "execution_count": 4,
   "metadata": {},
   "outputs": [
    {
     "data": {
      "text/html": [
       "<div>\n",
       "<style scoped>\n",
       "    .dataframe tbody tr th:only-of-type {\n",
       "        vertical-align: middle;\n",
       "    }\n",
       "\n",
       "    .dataframe tbody tr th {\n",
       "        vertical-align: top;\n",
       "    }\n",
       "\n",
       "    .dataframe thead th {\n",
       "        text-align: right;\n",
       "    }\n",
       "</style>\n",
       "<table border=\"1\" class=\"dataframe\">\n",
       "  <thead>\n",
       "    <tr style=\"text-align: right;\">\n",
       "      <th></th>\n",
       "      <th>date</th>\n",
       "      <th>state</th>\n",
       "      <th>confirmed</th>\n",
       "    </tr>\n",
       "    <tr>\n",
       "      <th>country</th>\n",
       "      <th></th>\n",
       "      <th></th>\n",
       "      <th></th>\n",
       "    </tr>\n",
       "  </thead>\n",
       "  <tbody>\n",
       "    <tr>\n",
       "      <th>Germany</th>\n",
       "      <td>2020-08-21</td>\n",
       "      <td>no</td>\n",
       "      <td>233029</td>\n",
       "    </tr>\n",
       "    <tr>\n",
       "      <th>US</th>\n",
       "      <td>2020-08-21</td>\n",
       "      <td>no</td>\n",
       "      <td>5622540</td>\n",
       "    </tr>\n",
       "  </tbody>\n",
       "</table>\n",
       "</div>"
      ],
      "text/plain": [
       "              date state  confirmed\n",
       "country                            \n",
       "Germany 2020-08-21    no     233029\n",
       "US      2020-08-21    no    5622540"
      ]
     },
     "execution_count": 4,
     "metadata": {},
     "output_type": "execute_result"
    }
   ],
   "source": [
    "test_data.groupby(['country']).agg(np.max)"
   ]
  },
  {
   "cell_type": "markdown",
   "metadata": {},
   "source": [
    "### Methods for calculation of DR"
   ]
  },
  {
   "cell_type": "code",
   "execution_count": 5,
   "metadata": {},
   "outputs": [],
   "source": [
    "reg = linear_model.LinearRegression(fit_intercept=True)\n",
    "# Method 1: regression\n",
    "def get_doubling_time_via_regression(in_array):\n",
    "    ''' Use a linear regression to approximate the doubling rate'''\n",
    "\n",
    "    y = np.array(in_array)\n",
    "    X = np.arange(-1,2).reshape(-1, 1)\n",
    "\n",
    "    assert len(in_array)==3\n",
    "    reg.fit(X,y)\n",
    "    intercept=reg.intercept_\n",
    "    slope=reg.coef_\n",
    "\n",
    "    return intercept/slope\n",
    "\n",
    "# Method 2: Rolling method with regression data\n",
    "def rolling_reg(df_input,col='confirmed'):\n",
    "    ''' Doubling rate calculation with rolling function of pandas DataFrame'''\n",
    "    ''' return is single series (mandatory for group by apply)'''\n",
    "    days_back=3 # window length\n",
    "    result=df_input[col].rolling(\n",
    "                window=days_back,\n",
    "                min_periods=days_back).apply(get_doubling_time_via_regression,raw=False)\n",
    "    return result"
   ]
  },
  {
   "cell_type": "code",
   "execution_count": 6,
   "metadata": {},
   "outputs": [
    {
     "data": {
      "text/plain": [
       "state  country       \n",
       "no     Germany  15737           NaN\n",
       "                16002           NaN\n",
       "                16268      7.417994\n",
       "                16534      7.142035\n",
       "                16800      8.012983\n",
       "                            ...    \n",
       "       US       55411    139.992250\n",
       "                55677    137.401816\n",
       "                55957    119.859707\n",
       "                56210    120.937005\n",
       "                56476    120.268425\n",
       "Name: confirmed, Length: 308, dtype: float64"
      ]
     },
     "execution_count": 6,
     "metadata": {},
     "output_type": "execute_result"
    }
   ],
   "source": [
    "test_data[['state','country','confirmed']].groupby(['state','country']).apply(rolling_reg,'confirmed')"
   ]
  },
  {
   "cell_type": "markdown",
   "metadata": {},
   "source": [
    "## Apply DR to large data"
   ]
  },
  {
   "cell_type": "code",
   "execution_count": 7,
   "metadata": {},
   "outputs": [
    {
     "data": {
      "text/html": [
       "<div>\n",
       "<style scoped>\n",
       "    .dataframe tbody tr th:only-of-type {\n",
       "        vertical-align: middle;\n",
       "    }\n",
       "\n",
       "    .dataframe tbody tr th {\n",
       "        vertical-align: top;\n",
       "    }\n",
       "\n",
       "    .dataframe thead th {\n",
       "        text-align: right;\n",
       "    }\n",
       "</style>\n",
       "<table border=\"1\" class=\"dataframe\">\n",
       "  <thead>\n",
       "    <tr style=\"text-align: right;\">\n",
       "      <th></th>\n",
       "      <th>state</th>\n",
       "      <th>country</th>\n",
       "      <th>index</th>\n",
       "      <th>confirmed_DR</th>\n",
       "    </tr>\n",
       "  </thead>\n",
       "  <tbody>\n",
       "    <tr>\n",
       "      <th>0</th>\n",
       "      <td>Alberta</td>\n",
       "      <td>Canada</td>\n",
       "      <td>0</td>\n",
       "      <td>NaN</td>\n",
       "    </tr>\n",
       "    <tr>\n",
       "      <th>1</th>\n",
       "      <td>Alberta</td>\n",
       "      <td>Canada</td>\n",
       "      <td>465</td>\n",
       "      <td>NaN</td>\n",
       "    </tr>\n",
       "    <tr>\n",
       "      <th>2</th>\n",
       "      <td>Alberta</td>\n",
       "      <td>Canada</td>\n",
       "      <td>701</td>\n",
       "      <td>NaN</td>\n",
       "    </tr>\n",
       "    <tr>\n",
       "      <th>3</th>\n",
       "      <td>Alberta</td>\n",
       "      <td>Canada</td>\n",
       "      <td>998</td>\n",
       "      <td>NaN</td>\n",
       "    </tr>\n",
       "    <tr>\n",
       "      <th>4</th>\n",
       "      <td>Alberta</td>\n",
       "      <td>Canada</td>\n",
       "      <td>1231</td>\n",
       "      <td>NaN</td>\n",
       "    </tr>\n",
       "  </tbody>\n",
       "</table>\n",
       "</div>"
      ],
      "text/plain": [
       "     state country  index  confirmed_DR\n",
       "0  Alberta  Canada      0           NaN\n",
       "1  Alberta  Canada    465           NaN\n",
       "2  Alberta  Canada    701           NaN\n",
       "3  Alberta  Canada    998           NaN\n",
       "4  Alberta  Canada   1231           NaN"
      ]
     },
     "execution_count": 7,
     "metadata": {},
     "output_type": "execute_result"
    }
   ],
   "source": [
    "pd_DR=pd_data[['state','country','confirmed']].groupby(['state','country']).apply(rolling_reg,'confirmed').reset_index()\n",
    "\n",
    "pd_DR=pd_DR.rename(columns={'confirmed':'confirmed_DR',\n",
    "                            'level_2':'index'})\n",
    "\n",
    "pd_DR.head()"
   ]
  },
  {
   "cell_type": "markdown",
   "metadata": {},
   "source": [
    "## Merge DR with main dataframe"
   ]
  },
  {
   "cell_type": "code",
   "execution_count": 8,
   "metadata": {},
   "outputs": [
    {
     "data": {
      "text/html": [
       "<div>\n",
       "<style scoped>\n",
       "    .dataframe tbody tr th:only-of-type {\n",
       "        vertical-align: middle;\n",
       "    }\n",
       "\n",
       "    .dataframe tbody tr th {\n",
       "        vertical-align: top;\n",
       "    }\n",
       "\n",
       "    .dataframe thead th {\n",
       "        text-align: right;\n",
       "    }\n",
       "</style>\n",
       "<table border=\"1\" class=\"dataframe\">\n",
       "  <thead>\n",
       "    <tr style=\"text-align: right;\">\n",
       "      <th></th>\n",
       "      <th>index</th>\n",
       "      <th>date</th>\n",
       "      <th>state</th>\n",
       "      <th>country</th>\n",
       "      <th>confirmed</th>\n",
       "    </tr>\n",
       "  </thead>\n",
       "  <tbody>\n",
       "    <tr>\n",
       "      <th>0</th>\n",
       "      <td>0</td>\n",
       "      <td>2020-01-22</td>\n",
       "      <td>Alberta</td>\n",
       "      <td>Canada</td>\n",
       "      <td>0</td>\n",
       "    </tr>\n",
       "    <tr>\n",
       "      <th>1</th>\n",
       "      <td>1</td>\n",
       "      <td>2020-01-22</td>\n",
       "      <td>no</td>\n",
       "      <td>Korea, South</td>\n",
       "      <td>1</td>\n",
       "    </tr>\n",
       "    <tr>\n",
       "      <th>2</th>\n",
       "      <td>2</td>\n",
       "      <td>2020-01-22</td>\n",
       "      <td>no</td>\n",
       "      <td>Kosovo</td>\n",
       "      <td>0</td>\n",
       "    </tr>\n",
       "    <tr>\n",
       "      <th>3</th>\n",
       "      <td>3</td>\n",
       "      <td>2020-01-22</td>\n",
       "      <td>no</td>\n",
       "      <td>Kuwait</td>\n",
       "      <td>0</td>\n",
       "    </tr>\n",
       "    <tr>\n",
       "      <th>4</th>\n",
       "      <td>4</td>\n",
       "      <td>2020-01-22</td>\n",
       "      <td>no</td>\n",
       "      <td>Kyrgyzstan</td>\n",
       "      <td>0</td>\n",
       "    </tr>\n",
       "  </tbody>\n",
       "</table>\n",
       "</div>"
      ],
      "text/plain": [
       "   index       date    state       country  confirmed\n",
       "0      0 2020-01-22  Alberta        Canada          0\n",
       "1      1 2020-01-22       no  Korea, South          1\n",
       "2      2 2020-01-22       no        Kosovo          0\n",
       "3      3 2020-01-22       no        Kuwait          0\n",
       "4      4 2020-01-22       no    Kyrgyzstan          0"
      ]
     },
     "execution_count": 8,
     "metadata": {},
     "output_type": "execute_result"
    }
   ],
   "source": [
    "pd_data=pd_data.reset_index()\n",
    "pd_data.head()"
   ]
  },
  {
   "cell_type": "code",
   "execution_count": 9,
   "metadata": {},
   "outputs": [
    {
     "data": {
      "text/html": [
       "<div>\n",
       "<style scoped>\n",
       "    .dataframe tbody tr th:only-of-type {\n",
       "        vertical-align: middle;\n",
       "    }\n",
       "\n",
       "    .dataframe tbody tr th {\n",
       "        vertical-align: top;\n",
       "    }\n",
       "\n",
       "    .dataframe thead th {\n",
       "        text-align: right;\n",
       "    }\n",
       "</style>\n",
       "<table border=\"1\" class=\"dataframe\">\n",
       "  <thead>\n",
       "    <tr style=\"text-align: right;\">\n",
       "      <th></th>\n",
       "      <th>index</th>\n",
       "      <th>date</th>\n",
       "      <th>state</th>\n",
       "      <th>country</th>\n",
       "      <th>confirmed</th>\n",
       "      <th>confirmed_DR</th>\n",
       "    </tr>\n",
       "  </thead>\n",
       "  <tbody>\n",
       "    <tr>\n",
       "      <th>0</th>\n",
       "      <td>0</td>\n",
       "      <td>2020-01-22</td>\n",
       "      <td>Alberta</td>\n",
       "      <td>Canada</td>\n",
       "      <td>0</td>\n",
       "      <td>NaN</td>\n",
       "    </tr>\n",
       "    <tr>\n",
       "      <th>1</th>\n",
       "      <td>1</td>\n",
       "      <td>2020-01-22</td>\n",
       "      <td>no</td>\n",
       "      <td>Korea, South</td>\n",
       "      <td>1</td>\n",
       "      <td>NaN</td>\n",
       "    </tr>\n",
       "    <tr>\n",
       "      <th>2</th>\n",
       "      <td>2</td>\n",
       "      <td>2020-01-22</td>\n",
       "      <td>no</td>\n",
       "      <td>Kosovo</td>\n",
       "      <td>0</td>\n",
       "      <td>NaN</td>\n",
       "    </tr>\n",
       "    <tr>\n",
       "      <th>3</th>\n",
       "      <td>3</td>\n",
       "      <td>2020-01-22</td>\n",
       "      <td>no</td>\n",
       "      <td>Kuwait</td>\n",
       "      <td>0</td>\n",
       "      <td>NaN</td>\n",
       "    </tr>\n",
       "    <tr>\n",
       "      <th>4</th>\n",
       "      <td>4</td>\n",
       "      <td>2020-01-22</td>\n",
       "      <td>no</td>\n",
       "      <td>Kyrgyzstan</td>\n",
       "      <td>0</td>\n",
       "      <td>NaN</td>\n",
       "    </tr>\n",
       "  </tbody>\n",
       "</table>\n",
       "</div>"
      ],
      "text/plain": [
       "   index       date    state       country  confirmed  confirmed_DR\n",
       "0      0 2020-01-22  Alberta        Canada          0           NaN\n",
       "1      1 2020-01-22       no  Korea, South          1           NaN\n",
       "2      2 2020-01-22       no        Kosovo          0           NaN\n",
       "3      3 2020-01-22       no        Kuwait          0           NaN\n",
       "4      4 2020-01-22       no    Kyrgyzstan          0           NaN"
      ]
     },
     "execution_count": 9,
     "metadata": {},
     "output_type": "execute_result"
    }
   ],
   "source": [
    "pd_large=pd.merge(pd_data, pd_DR[['index','confirmed_DR']], on=['index'], how='left')\n",
    "pd_large.head()"
   ]
  },
  {
   "cell_type": "markdown",
   "metadata": {},
   "source": [
    "## Visulization"
   ]
  },
  {
   "cell_type": "code",
   "execution_count": 10,
   "metadata": {},
   "outputs": [],
   "source": [
    "def plot_DR_cases(df, country):\n",
    "    fig, ax1 = plt.subplots(figsize=(16,5))\n",
    "\n",
    "    ax1.set_xlabel('Date')\n",
    "    ax1.set_ylabel('Doubling rate', color='blue')\n",
    "    ax1.plot(df[df['country']==country]['date'],\n",
    "             df[df['country']==country]['confirmed_DR'], color='blue')\n",
    "    ax1.tick_params(axis='y', labelcolor='blue')\n",
    "\n",
    "    ax2 = ax1.twinx()  \n",
    "\n",
    "    ax2.set_ylabel('Confirmed cases', color='red')  \n",
    "    ax2.plot(df[df['country']==country]['date'],\n",
    "             df[df['country']==country]['confirmed'], color='red')\n",
    "    ax2.tick_params(axis='y', labelcolor='red')\n",
    "    ax1.set_title('Country: ' + country)\n",
    "    fig.tight_layout()  "
   ]
  },
  {
   "cell_type": "code",
   "execution_count": 11,
   "metadata": {},
   "outputs": [
    {
     "data": {
      "image/png": "[encoded data removed]",
      "text/plain": [
       "<Figure size 1152x360 with 2 Axes>"
      ]
     },
     "metadata": {
      "needs_background": "light"
     },
     "output_type": "display_data"
    }
   ],
   "source": [
    "plot_DR_cases(pd_large, 'US')"
   ]
  },
  {
   "cell_type": "markdown",
   "metadata": {},
   "source": [
    "## Apply filter for smooth data"
   ]
  },
  {
   "cell_type": "code",
   "execution_count": 12,
   "metadata": {},
   "outputs": [],
   "source": [
    "def savgol_filter(df_input,column='confirmed',window=5):\n",
    "    ''' Savgol Filter which can be used in groupby apply function \n",
    "        it ensures that the data structure is kept'''\n",
    "    window=5, \n",
    "    degree=1\n",
    "    df_result=df_input\n",
    "    \n",
    "    filter_in=df_input[column].fillna(0) # attention with the neutral element here\n",
    "    \n",
    "    result=signal.savgol_filter(np.array(filter_in),\n",
    "                           5, # window size used for filtering\n",
    "                           1)\n",
    "    df_result[column+'_filtered']=result\n",
    "    return df_result"
   ]
  },
  {
   "cell_type": "code",
   "execution_count": 13,
   "metadata": {},
   "outputs": [],
   "source": [
    "pd_filtered=pd_data[['state','country','confirmed']].groupby(['state','country']).apply(savgol_filter).reset_index()"
   ]
  },
  {
   "cell_type": "code",
   "execution_count": 14,
   "metadata": {},
   "outputs": [
    {
     "data": {
      "text/html": [
       "<div>\n",
       "<style scoped>\n",
       "    .dataframe tbody tr th:only-of-type {\n",
       "        vertical-align: middle;\n",
       "    }\n",
       "\n",
       "    .dataframe tbody tr th {\n",
       "        vertical-align: top;\n",
       "    }\n",
       "\n",
       "    .dataframe thead th {\n",
       "        text-align: right;\n",
       "    }\n",
       "</style>\n",
       "<table border=\"1\" class=\"dataframe\">\n",
       "  <thead>\n",
       "    <tr style=\"text-align: right;\">\n",
       "      <th></th>\n",
       "      <th>index</th>\n",
       "      <th>date</th>\n",
       "      <th>state</th>\n",
       "      <th>country</th>\n",
       "      <th>confirmed</th>\n",
       "      <th>confirmed_DR</th>\n",
       "    </tr>\n",
       "  </thead>\n",
       "  <tbody>\n",
       "    <tr>\n",
       "      <th>0</th>\n",
       "      <td>0</td>\n",
       "      <td>2020-01-22</td>\n",
       "      <td>Alberta</td>\n",
       "      <td>Canada</td>\n",
       "      <td>0</td>\n",
       "      <td>NaN</td>\n",
       "    </tr>\n",
       "    <tr>\n",
       "      <th>1</th>\n",
       "      <td>1</td>\n",
       "      <td>2020-01-22</td>\n",
       "      <td>no</td>\n",
       "      <td>Korea, South</td>\n",
       "      <td>1</td>\n",
       "      <td>NaN</td>\n",
       "    </tr>\n",
       "    <tr>\n",
       "      <th>2</th>\n",
       "      <td>2</td>\n",
       "      <td>2020-01-22</td>\n",
       "      <td>no</td>\n",
       "      <td>Kosovo</td>\n",
       "      <td>0</td>\n",
       "      <td>NaN</td>\n",
       "    </tr>\n",
       "    <tr>\n",
       "      <th>3</th>\n",
       "      <td>3</td>\n",
       "      <td>2020-01-22</td>\n",
       "      <td>no</td>\n",
       "      <td>Kuwait</td>\n",
       "      <td>0</td>\n",
       "      <td>NaN</td>\n",
       "    </tr>\n",
       "    <tr>\n",
       "      <th>4</th>\n",
       "      <td>4</td>\n",
       "      <td>2020-01-22</td>\n",
       "      <td>no</td>\n",
       "      <td>Kyrgyzstan</td>\n",
       "      <td>0</td>\n",
       "      <td>NaN</td>\n",
       "    </tr>\n",
       "  </tbody>\n",
       "</table>\n",
       "</div>"
      ],
      "text/plain": [
       "   index       date    state       country  confirmed  confirmed_DR\n",
       "0      0 2020-01-22  Alberta        Canada          0           NaN\n",
       "1      1 2020-01-22       no  Korea, South          1           NaN\n",
       "2      2 2020-01-22       no        Kosovo          0           NaN\n",
       "3      3 2020-01-22       no        Kuwait          0           NaN\n",
       "4      4 2020-01-22       no    Kyrgyzstan          0           NaN"
      ]
     },
     "execution_count": 14,
     "metadata": {},
     "output_type": "execute_result"
    }
   ],
   "source": [
    "pd_large_filtered=pd.merge(pd_large,pd_filtered[['index','confirmed_filtered']],on=['index'],how='left')\n",
    "pd_large.head()"
   ]
  },
  {
   "cell_type": "code",
   "execution_count": 15,
   "metadata": {},
   "outputs": [
    {
     "data": {
      "text/html": [
       "<div>\n",
       "<style scoped>\n",
       "    .dataframe tbody tr th:only-of-type {\n",
       "        vertical-align: middle;\n",
       "    }\n",
       "\n",
       "    .dataframe tbody tr th {\n",
       "        vertical-align: top;\n",
       "    }\n",
       "\n",
       "    .dataframe thead th {\n",
       "        text-align: right;\n",
       "    }\n",
       "</style>\n",
       "<table border=\"1\" class=\"dataframe\">\n",
       "  <thead>\n",
       "    <tr style=\"text-align: right;\">\n",
       "      <th></th>\n",
       "      <th>state</th>\n",
       "      <th>country</th>\n",
       "      <th>index</th>\n",
       "      <th>confirmed_filtered_DR</th>\n",
       "    </tr>\n",
       "  </thead>\n",
       "  <tbody>\n",
       "    <tr>\n",
       "      <th>56653</th>\n",
       "      <td>no</td>\n",
       "      <td>Zimbabwe</td>\n",
       "      <td>55460</td>\n",
       "      <td>54.757039</td>\n",
       "    </tr>\n",
       "    <tr>\n",
       "      <th>56654</th>\n",
       "      <td>no</td>\n",
       "      <td>Zimbabwe</td>\n",
       "      <td>55658</td>\n",
       "      <td>46.956725</td>\n",
       "    </tr>\n",
       "    <tr>\n",
       "      <th>56655</th>\n",
       "      <td>no</td>\n",
       "      <td>Zimbabwe</td>\n",
       "      <td>55955</td>\n",
       "      <td>48.673197</td>\n",
       "    </tr>\n",
       "    <tr>\n",
       "      <th>56656</th>\n",
       "      <td>no</td>\n",
       "      <td>Zimbabwe</td>\n",
       "      <td>56190</td>\n",
       "      <td>44.892728</td>\n",
       "    </tr>\n",
       "    <tr>\n",
       "      <th>56657</th>\n",
       "      <td>no</td>\n",
       "      <td>Zimbabwe</td>\n",
       "      <td>56657</td>\n",
       "      <td>41.389573</td>\n",
       "    </tr>\n",
       "  </tbody>\n",
       "</table>\n",
       "</div>"
      ],
      "text/plain": [
       "      state   country  index  confirmed_filtered_DR\n",
       "56653    no  Zimbabwe  55460              54.757039\n",
       "56654    no  Zimbabwe  55658              46.956725\n",
       "56655    no  Zimbabwe  55955              48.673197\n",
       "56656    no  Zimbabwe  56190              44.892728\n",
       "56657    no  Zimbabwe  56657              41.389573"
      ]
     },
     "execution_count": 15,
     "metadata": {},
     "output_type": "execute_result"
    }
   ],
   "source": [
    "# calculate doubling rate for filtered data\n",
    "pd_DR_filtered=pd_large_filtered[['state','country','confirmed_filtered']].groupby(['state','country']).apply(rolling_reg,'confirmed_filtered').reset_index()\n",
    "pd_DR_filtered=pd_DR_filtered.rename(columns={'confirmed_filtered':'confirmed_filtered_DR', 'level_2':'index'})\n",
    "\n",
    "pd_DR_filtered.tail()"
   ]
  },
  {
   "cell_type": "code",
   "execution_count": 16,
   "metadata": {},
   "outputs": [
    {
     "data": {
      "text/html": [
       "<div>\n",
       "<style scoped>\n",
       "    .dataframe tbody tr th:only-of-type {\n",
       "        vertical-align: middle;\n",
       "    }\n",
       "\n",
       "    .dataframe tbody tr th {\n",
       "        vertical-align: top;\n",
       "    }\n",
       "\n",
       "    .dataframe thead th {\n",
       "        text-align: right;\n",
       "    }\n",
       "</style>\n",
       "<table border=\"1\" class=\"dataframe\">\n",
       "  <thead>\n",
       "    <tr style=\"text-align: right;\">\n",
       "      <th></th>\n",
       "      <th>index</th>\n",
       "      <th>date</th>\n",
       "      <th>state</th>\n",
       "      <th>country</th>\n",
       "      <th>confirmed</th>\n",
       "      <th>confirmed_DR</th>\n",
       "      <th>confirmed_filtered</th>\n",
       "      <th>confirmed_filtered_DR</th>\n",
       "    </tr>\n",
       "  </thead>\n",
       "  <tbody>\n",
       "    <tr>\n",
       "      <th>56653</th>\n",
       "      <td>56653</td>\n",
       "      <td>2020-08-21</td>\n",
       "      <td>no</td>\n",
       "      <td>Barbados</td>\n",
       "      <td>157</td>\n",
       "      <td>156.000000</td>\n",
       "      <td>157.2</td>\n",
       "      <td>119.923077</td>\n",
       "    </tr>\n",
       "    <tr>\n",
       "      <th>56654</th>\n",
       "      <td>56654</td>\n",
       "      <td>2020-08-21</td>\n",
       "      <td>no</td>\n",
       "      <td>Belarus</td>\n",
       "      <td>70111</td>\n",
       "      <td>451.316129</td>\n",
       "      <td>70089.0</td>\n",
       "      <td>529.575322</td>\n",
       "    </tr>\n",
       "    <tr>\n",
       "      <th>56655</th>\n",
       "      <td>56655</td>\n",
       "      <td>2020-08-21</td>\n",
       "      <td>no</td>\n",
       "      <td>Belgium</td>\n",
       "      <td>80894</td>\n",
       "      <td>113.333804</td>\n",
       "      <td>80796.6</td>\n",
       "      <td>133.638560</td>\n",
       "    </tr>\n",
       "    <tr>\n",
       "      <th>56656</th>\n",
       "      <td>56656</td>\n",
       "      <td>2020-08-21</td>\n",
       "      <td>no</td>\n",
       "      <td>Albania</td>\n",
       "      <td>8119</td>\n",
       "      <td>51.895765</td>\n",
       "      <td>8120.8</td>\n",
       "      <td>51.291050</td>\n",
       "    </tr>\n",
       "    <tr>\n",
       "      <th>56657</th>\n",
       "      <td>56657</td>\n",
       "      <td>2020-08-21</td>\n",
       "      <td>no</td>\n",
       "      <td>Zimbabwe</td>\n",
       "      <td>5815</td>\n",
       "      <td>66.678295</td>\n",
       "      <td>5854.0</td>\n",
       "      <td>41.389573</td>\n",
       "    </tr>\n",
       "  </tbody>\n",
       "</table>\n",
       "</div>"
      ],
      "text/plain": [
       "       index       date state   country  confirmed  confirmed_DR  \\\n",
       "56653  56653 2020-08-21    no  Barbados        157    156.000000   \n",
       "56654  56654 2020-08-21    no   Belarus      70111    451.316129   \n",
       "56655  56655 2020-08-21    no   Belgium      80894    113.333804   \n",
       "56656  56656 2020-08-21    no   Albania       8119     51.895765   \n",
       "56657  56657 2020-08-21    no  Zimbabwe       5815     66.678295   \n",
       "\n",
       "       confirmed_filtered  confirmed_filtered_DR  \n",
       "56653               157.2             119.923077  \n",
       "56654             70089.0             529.575322  \n",
       "56655             80796.6             133.638560  \n",
       "56656              8120.8              51.291050  \n",
       "56657              5854.0              41.389573  "
      ]
     },
     "execution_count": 16,
     "metadata": {},
     "output_type": "execute_result"
    }
   ],
   "source": [
    "# merge large data with filtered doubling rate\n",
    "pd_large_filtered=pd.merge(pd_large_filtered,pd_DR_filtered[['index','confirmed_filtered_DR']],on=['index'],how='left')\n",
    "pd_large_filtered.tail()"
   ]
  },
  {
   "cell_type": "code",
   "execution_count": 17,
   "metadata": {},
   "outputs": [],
   "source": [
    "# take only data where number of cases is atleast 100\n",
    "mask=pd_large_filtered['confirmed']>100\n",
    "pd_large_filtered['confirmed_filtered_DR']=pd_large_filtered['confirmed_filtered_DR'].where(mask, other=np.NaN) "
   ]
  },
  {
   "cell_type": "code",
   "execution_count": 18,
   "metadata": {},
   "outputs": [],
   "source": [
    "# export data\n",
    "pd_large_filtered.to_csv('../data/processed/COVID_final_set.csv',sep=';',index=False)"
   ]
  },
  {
   "cell_type": "code",
   "execution_count": null,
   "metadata": {},
   "outputs": [],
   "source": []
  }
 ],
 "metadata": {
  "kernelspec": {
   "display_name": "Python 3",
   "language": "python",
   "name": "python3"
  },
  "language_info": {
   "codemirror_mode": {
    "name": "ipython",
    "version": 3
   },
   "file_extension": ".py",
   "mimetype": "text/x-python",
   "name": "python",
   "nbconvert_exporter": "python",
   "pygments_lexer": "ipython3",
   "version": "3.7.3"
  }
 },
 "nbformat": 4,
 "nbformat_minor": 4
}
