{
 "cells": [
  {
   "cell_type": "markdown",
   "metadata": {},
   "source": [
    "# Standard process in data science\n",
    "!['CRISP_DM'](../reports/figures/CRISP_DM.png)\n",
    "\n",
    "Data science project starts with the understanding of business problem and by defining objectives of project. The above process diagram is known as **CR**oss **I**ndustry **S**tandard **P**rocess for **D**ata-**M**ining (CRISP_DM).\n",
    "\n",
    "# Business Understanding\n",
    "\n",
    "The primary goal of this project is to track COVID-19 VIRUS data from different sources and visulaize and analyse. \n",
    "\n",
    "The information available on internet is very general in purpose of number of new cases and recoveries. Therefore, project aims a deep dive into local development of the spread. \n",
    "\n",
    "## Goals\n",
    "\n",
    "* Understanding of data quality and scraping of data from internet sources\n",
    "* A dynamic dashboard which represents virus spread based on chosen country that should be automatic as much as possible "
   ]
  },
  {
   "cell_type": "code",
   "execution_count": null,
   "metadata": {},
   "outputs": [],
   "source": []
  }
 ],
 "metadata": {
  "kernelspec": {
   "display_name": "Python 3",
   "language": "python",
   "name": "python3"
  },
  "language_info": {
   "codemirror_mode": {
    "name": "ipython",
    "version": 3
   },
   "file_extension": ".py",
   "mimetype": "text/x-python",
   "name": "python",
   "nbconvert_exporter": "python",
   "pygments_lexer": "ipython3",
   "version": "3.7.3"
  }
 },
 "nbformat": 4,
 "nbformat_minor": 4
}
